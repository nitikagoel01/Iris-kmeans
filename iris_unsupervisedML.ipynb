{
 "cells": [
  {
   "cell_type": "code",
   "execution_count": 11,
   "metadata": {
    "collapsed": true
   },
   "outputs": [],
   "source": [
    "from sklearn.datasets import load_iris\n",
    "import pandas as pd\n",
    "import numpy as np\n",
    "from sklearn.model_selection import train_test_split\n",
    "import matplotlib.pyplot as plt\n",
    "from sklearn import metrics\n",
    "from sklearn.cluster import KMeans\n",
    "from sklearn.linear_model import LogisticRegression\n",
    "from sklearn.metrics import accuracy_score\n",
    "from sklearn.svm import SVC\n",
    "from pprint import pprint"
   ]
  },
  {
   "cell_type": "code",
   "execution_count": 13,
   "metadata": {
    "collapsed": false
   },
   "outputs": [],
   "source": [
    "def loadData():\n",
    "    iris_data = load_iris()\n",
    "    X_train , X_test, y_train, y_test = train_test_split(iris_data.data, iris_data.target, test_size = 0.3, random_state = 42)\n",
    "    return X_train , X_test, y_train, y_test\n",
    "\n",
    "def kmeans(X_train, X_test, n_clusters=2):\n",
    "    kmeans = KMeans(init='k-means++', n_clusters=n_clusters)\n",
    "    kmeans.fit(X_train)\n",
    "    return kmeans.labels_.reshape(-1, 1), kmeans.predict(X_test).reshape(-1, 1)\n",
    "\n",
    "def classifier(X, y, test, truth, model=LogisticRegression()):\n",
    "    model.fit(X, y)\n",
    "    return accuracy_score(truth, model.predict(test))"
   ]
  },
  {
   "cell_type": "code",
   "execution_count": 14,
   "metadata": {
    "collapsed": false
   },
   "outputs": [
    {
     "name": "stdout",
     "output_type": "stream",
     "text": [
      "0.51111111111111107\n",
      "0.97777777777777775\n",
      "0.9555555555555556\n"
     ]
    }
   ],
   "source": [
    "# only km feature\n",
    "X_train, X_test, y_train, y_test = loadData()\n",
    "X_train , X_test = kmeans(X_train, X_test, len(np.unique(y_train)))\n",
    "pprint(classifier(X_train, y_train, X_test, y_test))\n",
    "\n",
    "# original four features\n",
    "X_train, X_test, y_train, y_test = loadData()\n",
    "pprint(classifier(X_train, y_train, X_test, y_test))\n",
    "\n",
    "# only km feature\n",
    "X_train, X_test, y_train, y_test = loadData()\n",
    "km_train , km_test = kmeans(X_train, X_test, len(np.unique(y_train)))\n",
    "X_train = pd.DataFrame(X_train)\n",
    "X_train['km'] = km_train\n",
    "X_test = pd.DataFrame(X_test)\n",
    "X_test['km'] = km_test\n",
    "pprint(classifier(X_train, y_train, X_test, y_test))"
   ]
  },
  {
   "cell_type": "code",
   "execution_count": 15,
   "metadata": {
    "collapsed": false
   },
   "outputs": [
    {
     "name": "stdout",
     "output_type": "stream",
     "text": [
      "0.93333333333333335\n",
      "1.0\n",
      "1.0\n"
     ]
    }
   ],
   "source": [
    "# only km feature\n",
    "X_train, X_test, y_train, y_test = loadData()\n",
    "X_train , X_test = kmeans(X_train, X_test, len(np.unique(y_train)))\n",
    "pprint(classifier(X_train, y_train, X_test, y_test, SVC()))\n",
    "\n",
    "# original four features\n",
    "X_train, X_test, y_train, y_test = loadData()\n",
    "pprint(classifier(X_train, y_train, X_test, y_test, SVC()))\n",
    "\n",
    "# only km feature\n",
    "X_train, X_test, y_train, y_test = loadData()\n",
    "km_train , km_test = kmeans(X_train, X_test, len(np.unique(y_train)))\n",
    "X_train = pd.DataFrame(X_train)\n",
    "X_train['km'] = km_train\n",
    "X_test = pd.DataFrame(X_test)\n",
    "X_test['km'] = km_test\n",
    "pprint(classifier(X_train, y_train, X_test, y_test, SVC()))"
   ]
  },
  {
   "cell_type": "code",
   "execution_count": null,
   "metadata": {
    "collapsed": false
   },
   "outputs": [],
   "source": []
  },
  {
   "cell_type": "code",
   "execution_count": null,
   "metadata": {
    "collapsed": true
   },
   "outputs": [],
   "source": []
  }
 ],
 "metadata": {
  "kernelspec": {
   "display_name": "Python 2",
   "language": "python",
   "name": "python2"
  },
  "language_info": {
   "codemirror_mode": {
    "name": "ipython",
    "version": 2
   },
   "file_extension": ".py",
   "mimetype": "text/x-python",
   "name": "python",
   "nbconvert_exporter": "python",
   "pygments_lexer": "ipython2",
   "version": "2.7.13"
  }
 },
 "nbformat": 4,
 "nbformat_minor": 2
}
