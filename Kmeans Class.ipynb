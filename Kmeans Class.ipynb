{
 "cells": [
  {
   "cell_type": "code",
   "execution_count": 1,
   "metadata": {
    "collapsed": true
   },
   "outputs": [],
   "source": [
    "from sklearn.datasets import load_iris\n",
    "import pandas as pd\n",
    "import numpy as np\n",
    "from sklearn.model_selection import train_test_split\n",
    "import matplotlib.pyplot as plt\n",
    "from sklearn import metrics\n",
    "from sklearn.cluster import KMeans\n",
    "from sklearn.linear_model import LogisticRegression\n",
    "from sklearn.metrics import accuracy_score\n",
    "from sklearn.svm import SVC\n",
    "from pprint import pprint"
   ]
  },
  {
   "cell_type": "code",
   "execution_count": 27,
   "metadata": {
    "collapsed": false
   },
   "outputs": [],
   "source": [
    "class Iris(object):\n",
    " \n",
    "  def __init__(self):\n",
    "        return None\n",
    " \n",
    "  def load_data(self, datafn=load_iris):\n",
    "        data = datafn()\n",
    "        self.X_train, self.X_test, self.y_train, self.y_test = train_test_split(data.data, data.target, test_size=0.3, random_state=42)\n",
    "        return 1\n",
    " \n",
    "  def Kmeans(self, technique='random', n_clusters=2, output = 'all'):\n",
    "        km = KMeans(init=technique, n_clusters=n_clusters)    \n",
    "        km.fit(self.X_train)\n",
    "        self.X_train = pd.DataFrame(self.X_train)\n",
    "        self.X_test = pd.DataFrame(self.X_test)\n",
    "        if output == 'all':\n",
    "            self.X_train['km'] = km.labels_\n",
    "            self.X_test['km'] = km.predict(self.X_test)\n",
    "        elif output == 'one':\n",
    "            self.X_train = km.labels_.reshape(-1, 1)\n",
    "            self.X_test = km.predict(self.X_test).reshape(-1, 1)\n",
    "        return self\n",
    " \n",
    "  def logreg(self):\n",
    "        logreg = LogisticRegression()\n",
    "        logreg.fit(self.X_train, self.y_train)\n",
    "        predictions = logreg.predict(self.X_test)\n",
    "        return accuracy_score(self.y_test,predictions)\n",
    " \n",
    "  def model(self, model_input = LogisticRegression()):\n",
    "        model = model_input\n",
    "        model.fit(self.X_train, self.y_train)\n",
    "        predictions = model.predict(self.X_test)\n",
    "        return accuracy_score(self.y_test,predictions)\n",
    "\n",
    "\n"
   ]
  },
  {
   "cell_type": "code",
   "execution_count": null,
   "metadata": {
    "collapsed": false
   },
   "outputs": [],
   "source": []
  },
  {
   "cell_type": "code",
   "execution_count": null,
   "metadata": {
    "collapsed": true
   },
   "outputs": [],
   "source": []
  }
 ],
 "metadata": {
  "kernelspec": {
   "display_name": "Python 2",
   "language": "python",
   "name": "python2"
  },
  "language_info": {
   "codemirror_mode": {
    "name": "ipython",
    "version": 2
   },
   "file_extension": ".py",
   "mimetype": "text/x-python",
   "name": "python",
   "nbconvert_exporter": "python",
   "pygments_lexer": "ipython2",
   "version": "2.7.13"
  }
 },
 "nbformat": 4,
 "nbformat_minor": 2
}
